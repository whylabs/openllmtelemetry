{
 "cells": [
  {
   "cell_type": "code",
   "execution_count": 1,
   "metadata": {
    "ExecuteTime": {
     "end_time": "2024-05-14T22:05:49.146385Z",
     "start_time": "2024-05-14T22:05:46.523048Z"
    }
   },
   "outputs": [
    {
     "name": "stdout",
     "output_type": "stream",
     "text": [
      "Requirement already satisfied: openai in /Volumes/Workspace/llm-traceguard/.venv/lib/python3.9/site-packages (1.25.1)\r\n",
      "Requirement already satisfied: typing-extensions<5,>=4.7 in /Volumes/Workspace/llm-traceguard/.venv/lib/python3.9/site-packages (from openai) (4.11.0)\r\n",
      "Requirement already satisfied: tqdm>4 in /Volumes/Workspace/llm-traceguard/.venv/lib/python3.9/site-packages (from openai) (4.66.4)\r\n",
      "Requirement already satisfied: pydantic<3,>=1.9.0 in /Volumes/Workspace/llm-traceguard/.venv/lib/python3.9/site-packages (from openai) (2.7.1)\r\n",
      "Requirement already satisfied: sniffio in /Volumes/Workspace/llm-traceguard/.venv/lib/python3.9/site-packages (from openai) (1.3.1)\r\n",
      "Requirement already satisfied: httpx<1,>=0.23.0 in /Volumes/Workspace/llm-traceguard/.venv/lib/python3.9/site-packages (from openai) (0.25.2)\r\n",
      "Requirement already satisfied: distro<2,>=1.7.0 in /Volumes/Workspace/llm-traceguard/.venv/lib/python3.9/site-packages (from openai) (1.9.0)\r\n",
      "Requirement already satisfied: anyio<5,>=3.5.0 in /Volumes/Workspace/llm-traceguard/.venv/lib/python3.9/site-packages (from openai) (4.3.0)\r\n",
      "Requirement already satisfied: exceptiongroup>=1.0.2 in /Volumes/Workspace/llm-traceguard/.venv/lib/python3.9/site-packages (from anyio<5,>=3.5.0->openai) (1.2.0)\r\n",
      "Requirement already satisfied: idna>=2.8 in /Volumes/Workspace/llm-traceguard/.venv/lib/python3.9/site-packages (from anyio<5,>=3.5.0->openai) (3.7)\r\n",
      "Requirement already satisfied: httpcore==1.* in /Volumes/Workspace/llm-traceguard/.venv/lib/python3.9/site-packages (from httpx<1,>=0.23.0->openai) (1.0.5)\r\n",
      "Requirement already satisfied: certifi in /Volumes/Workspace/llm-traceguard/.venv/lib/python3.9/site-packages (from httpx<1,>=0.23.0->openai) (2024.2.2)\r\n",
      "Requirement already satisfied: h11<0.15,>=0.13 in /Volumes/Workspace/llm-traceguard/.venv/lib/python3.9/site-packages (from httpcore==1.*->httpx<1,>=0.23.0->openai) (0.14.0)\r\n",
      "Requirement already satisfied: annotated-types>=0.4.0 in /Volumes/Workspace/llm-traceguard/.venv/lib/python3.9/site-packages (from pydantic<3,>=1.9.0->openai) (0.6.0)\r\n",
      "Requirement already satisfied: pydantic-core==2.18.2 in /Volumes/Workspace/llm-traceguard/.venv/lib/python3.9/site-packages (from pydantic<3,>=1.9.0->openai) (2.18.2)\r\n",
      "\r\n",
      "\u001B[1m[\u001B[0m\u001B[34;49mnotice\u001B[0m\u001B[1;39;49m]\u001B[0m\u001B[39;49m A new release of pip is available: \u001B[0m\u001B[31;49m23.0\u001B[0m\u001B[39;49m -> \u001B[0m\u001B[32;49m24.0\u001B[0m\r\n",
      "\u001B[1m[\u001B[0m\u001B[34;49mnotice\u001B[0m\u001B[1;39;49m]\u001B[0m\u001B[39;49m To update, run: \u001B[0m\u001B[32;49mpip install --upgrade pip\u001B[0m\r\n",
      "Note: you may need to restart the kernel to use updated packages.\n"
     ]
    }
   ],
   "source": [
    "%pip install openai"
   ]
  },
  {
   "cell_type": "code",
   "outputs": [],
   "source": [
    "from opentelemetry import trace\n"
   ],
   "metadata": {
    "collapsed": false,
    "ExecuteTime": {
     "end_time": "2024-05-14T22:06:07.566203Z",
     "start_time": "2024-05-14T22:06:07.515715Z"
    }
   },
   "execution_count": 2
  },
  {
   "cell_type": "code",
   "outputs": [
    {
     "data": {
      "text/plain": "<opentelemetry.trace.ProxyTracerProvider at 0x7f8a4873e340>"
     },
     "execution_count": 3,
     "metadata": {},
     "output_type": "execute_result"
    }
   ],
   "source": [
    "trace.get_tracer_provider()"
   ],
   "metadata": {
    "collapsed": false,
    "ExecuteTime": {
     "end_time": "2024-05-14T22:06:13.625357Z",
     "start_time": "2024-05-14T22:06:13.619928Z"
    }
   },
   "execution_count": 3
  },
  {
   "cell_type": "code",
   "execution_count": 4,
   "metadata": {
    "collapsed": false,
    "ExecuteTime": {
     "end_time": "2024-05-14T22:06:20.570548Z",
     "start_time": "2024-05-14T22:06:20.546160Z"
    }
   },
   "outputs": [],
   "source": [
    "%load_ext autoreload\n",
    "%autoreload 2\n"
   ]
  },
  {
   "cell_type": "code",
   "execution_count": 5,
   "metadata": {
    "ExecuteTime": {
     "end_time": "2024-05-14T22:06:22.000572Z",
     "start_time": "2024-05-14T22:06:20.785146Z"
    }
   },
   "outputs": [],
   "source": [
    "import os\n",
    "import getpass\n",
    "\n",
    "os.environ[\"OPENAI_API_KEY\"] = getpass.getpass(\"Input OpenAPI key:\")"
   ]
  },
  {
   "cell_type": "code",
   "execution_count": 4,
   "metadata": {},
   "outputs": [],
   "source": [
    "os.environ[\"WHYLABS_ENDPOINT\"] = \"https://songbird.development.whylabsdev.com/\""
   ]
  },
  {
   "cell_type": "code",
   "execution_count": 6,
   "metadata": {
    "ExecuteTime": {
     "end_time": "2024-05-14T22:06:26.278719Z",
     "start_time": "2024-05-14T22:06:23.517473Z"
    }
   },
   "outputs": [
    {
     "name": "stdout",
     "output_type": "stream",
     "text": [
      "Using dataset ID:  aga\n"
     ]
    },
    {
     "name": "stderr",
     "output_type": "stream",
     "text": [
      "Boto3 not found, skipping instrumentation\n"
     ]
    },
    {
     "data": {
      "text/plain": "<opentelemetry.trace.ProxyTracer at 0x7f8a785b49a0>"
     },
     "execution_count": 6,
     "metadata": {},
     "output_type": "execute_result"
    }
   ],
   "source": [
    "import openllmtelemetry\n",
    "\n",
    "openllmtelemetry.instrument(application_name=\"andy-test-4\")"
   ]
  },
  {
   "cell_type": "code",
   "execution_count": 8,
   "metadata": {
    "ExecuteTime": {
     "end_time": "2024-04-26T00:20:17.093862Z",
     "start_time": "2024-04-26T00:20:16.071771Z"
    }
   },
   "outputs": [],
   "source": [
    "from openai import OpenAI\n",
    "client = OpenAI()\n"
   ]
  },
  {
   "cell_type": "code",
   "execution_count": 10,
   "metadata": {
    "ExecuteTime": {
     "end_time": "2024-04-26T00:12:31.329192Z",
     "start_time": "2024-04-26T00:12:31.326902Z"
    },
    "collapsed": false
   },
   "outputs": [
    {
     "data": {
      "text/plain": [
       "ChatCompletion(id='chatcmpl-9KvibAFZ0wkVKCSnB5r8Phe1j17RW', choices=[Choice(finish_reason='stop', index=0, logprobs=None, message=ChatCompletionMessage(content='positive', role='assistant', function_call=None, tool_calls=None))], created=1714775457, model='gpt-3.5-turbo-0125', object='chat.completion', system_fingerprint='fp_3b956da36b', usage=CompletionUsage(completion_tokens=1, prompt_tokens=40, total_tokens=41))"
      ]
     },
     "execution_count": 10,
     "metadata": {},
     "output_type": "execute_result"
    }
   ],
   "source": [
    "response = client.chat.completions.create(\n",
    "    model=\"gpt-3.5-turbo\",\n",
    "    messages=[\n",
    "        {\n",
    "            \"role\": \"system\",\n",
    "            \"content\": \"You will be provided with a tweet, and your task is to classify its sentiment as positive, neutral, or negative.\",\n",
    "        },\n",
    "        {\"role\": \"user\", \"content\": \"I love lasagna!\"},\n",
    "    ],\n",
    "    temperature=0.7,\n",
    "    max_tokens=64,\n",
    "    top_p=1,\n",
    ")\n",
    "\n",
    "response\n"
   ]
  },
  {
   "cell_type": "code",
   "execution_count": 10,
   "metadata": {
    "ExecuteTime": {
     "end_time": "2024-04-25T22:08:20.383375Z",
     "start_time": "2024-04-25T22:08:20.335065Z"
    },
    "collapsed": false
   },
   "outputs": [],
   "source": [
    "import asyncio"
   ]
  },
  {
   "cell_type": "code",
   "execution_count": 13,
   "metadata": {},
   "outputs": [
    {
     "name": "stderr",
     "output_type": "stream",
     "text": [
      "Failed to set response attributes for openai span, error: 'ChatCompletion' object has no attribute 'get'\n"
     ]
    }
   ],
   "source": [
    "response = await do_it()"
   ]
  },
  {
   "cell_type": "code",
   "execution_count": 14,
   "metadata": {
    "ExecuteTime": {
     "end_time": "2024-04-25T22:16:03.799361Z",
     "start_time": "2024-04-25T22:16:02.895812Z"
    },
    "collapsed": false
   },
   "outputs": [],
   "source": [
    "response"
   ]
  },
  {
   "cell_type": "code",
   "execution_count": null,
   "metadata": {
    "collapsed": false
   },
   "outputs": [],
   "source": []
  }
 ],
 "metadata": {
  "kernelspec": {
   "display_name": "Python 3 (ipykernel)",
   "language": "python",
   "name": "python3"
  },
  "language_info": {
   "codemirror_mode": {
    "name": "ipython",
    "version": 3
   },
   "file_extension": ".py",
   "mimetype": "text/x-python",
   "name": "python",
   "nbconvert_exporter": "python",
   "pygments_lexer": "ipython3",
   "version": "3.9.7"
  }
 },
 "nbformat": 4,
 "nbformat_minor": 4
}
